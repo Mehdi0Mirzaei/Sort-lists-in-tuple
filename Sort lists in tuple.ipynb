{
 "cells": [
  {
   "cell_type": "code",
   "execution_count": 26,
   "id": "7d65e9c2",
   "metadata": {},
   "outputs": [
    {
     "name": "stdout",
     "output_type": "stream",
     "text": [
      "The original tuple is : ([7, 5, 4], [8, 2, 4], [0, 7, 5])\n",
      "The tuple after sorting lists : ([4, 5, 7], [2, 4, 8], [0, 5, 7])\n"
     ]
    }
   ],
   "source": [
    "# Initializing tuple\n",
    "test_tup = ([7, 5, 4], [8, 2, 4], [0, 7, 5])\n",
    " \n",
    "# printing original tuple\n",
    "print(\"The original tuple is : \" + str(test_tup))\n",
    " \n",
    "# Sort lists in tuple\n",
    "# Using tuple() + sorted() + generator expression\n",
    "res = tuple((sorted(sub) for sub in test_tup))\n",
    " \n",
    "# printing result\n",
    "print(\"The tuple after sorting lists : \" + str(res))"
   ]
  },
  {
   "cell_type": "code",
   "execution_count": 27,
   "id": "a88ba523",
   "metadata": {},
   "outputs": [
    {
     "name": "stdout",
     "output_type": "stream",
     "text": [
      "The original tuple is : ([7, 5, 4], [8, 2, 4], [0, 7, 5])\n",
      "The tuple after sorting lists : ([4, 5, 7], [2, 4, 8], [0, 5, 7])\n"
     ]
    }
   ],
   "source": [
    "# Initializing tuple\n",
    "test_tup = ([7, 5, 4], [8, 2, 4], [0, 7, 5])\n",
    " \n",
    "# printing original tuple\n",
    "print(\"The original tuple is : \" + str(test_tup))\n",
    " \n",
    "# Sort lists in tuple\n",
    "# Using map() + sorted()\n",
    "res = tuple(map(sorted, test_tup))\n",
    " \n",
    "# printing result\n",
    "print(\"The tuple after sorting lists : \" + str(res))"
   ]
  },
  {
   "cell_type": "code",
   "execution_count": 28,
   "id": "9676c79e",
   "metadata": {},
   "outputs": [
    {
     "name": "stdout",
     "output_type": "stream",
     "text": [
      "([4, 5, 7], [2, 4, 8], [0, 5, 7])\n"
     ]
    }
   ],
   "source": [
    "original_tuple = ([7, 5, 4], [8, 2, 4], [0, 7, 5])\n",
    " \n",
    "sorted_lists = ()\n",
    "for lst in original_tuple:\n",
    "    sorted_list = sorted(lst)\n",
    "    sorted_lists += (sorted_list,)\n",
    " \n",
    "print(sorted_lists)"
   ]
  },
  {
   "cell_type": "code",
   "execution_count": 29,
   "id": "5eca56e7",
   "metadata": {},
   "outputs": [
    {
     "name": "stdout",
     "output_type": "stream",
     "text": [
      "([4, 5, 7], [2, 4, 8], [0, 5, 7])\n"
     ]
    }
   ],
   "source": [
    "tup = ([7, 5, 4], [8, 2, 4], [0, 7, 5])\n",
    " \n",
    "result_tup = tuple(map(lambda lst: sorted(lst), tup))\n",
    " \n",
    "print(result_tup)"
   ]
  },
  {
   "cell_type": "code",
   "execution_count": null,
   "id": "34638f44",
   "metadata": {},
   "outputs": [],
   "source": []
  }
 ],
 "metadata": {
  "kernelspec": {
   "display_name": "Python 3 (ipykernel)",
   "language": "python",
   "name": "python3"
  },
  "language_info": {
   "codemirror_mode": {
    "name": "ipython",
    "version": 3
   },
   "file_extension": ".py",
   "mimetype": "text/x-python",
   "name": "python",
   "nbconvert_exporter": "python",
   "pygments_lexer": "ipython3",
   "version": "3.9.13"
  }
 },
 "nbformat": 4,
 "nbformat_minor": 5
}
